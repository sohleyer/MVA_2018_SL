{
 "cells": [
  {
   "cell_type": "markdown",
   "metadata": {},
   "source": [
    "# Speech and natural language processing - TD3"
   ]
  },
  {
   "cell_type": "code",
   "execution_count": 1,
   "metadata": {
    "collapsed": true
   },
   "outputs": [],
   "source": [
    "import time\n",
    "import numpy as np\n",
    "import re\n",
    "from nltk.tokenize import RegexpTokenizer\n",
    "import time\n",
    "from context2vec.common.model_reader import ModelReader"
   ]
  },
  {
   "cell_type": "code",
   "execution_count": null,
   "metadata": {
    "collapsed": true
   },
   "outputs": [],
   "source": []
  },
  {
   "cell_type": "code",
   "execution_count": null,
   "metadata": {
    "collapsed": true
   },
   "outputs": [],
   "source": []
  },
  {
   "cell_type": "markdown",
   "metadata": {},
   "source": [
    "### Open file"
   ]
  },
  {
   "cell_type": "code",
   "execution_count": 2,
   "metadata": {
    "collapsed": true
   },
   "outputs": [],
   "source": [
    "# Put spaces between words starting with\n",
    "# capital letters using Regex in Python\n",
    " \n",
    "def putSpace(input_str):\n",
    "    # regex [A-Z][a-z]* means any string starting \n",
    "    # with capital character followed by many \n",
    "    # lowercase letters \n",
    "    words = re.findall('[A-Z][a-z]*', input_str.group(0))\n",
    " \n",
    "    # Change first letter of each word into lower\n",
    "    # case\n",
    "    result = []\n",
    "    for word in words:\n",
    "        word = chr( ord (word[0]) + 32) + word[1:]\n",
    "        result.append(word)\n",
    "    return ' '.join(result)\n",
    " "
   ]
  },
  {
   "cell_type": "code",
   "execution_count": 3,
   "metadata": {
    "collapsed": true
   },
   "outputs": [],
   "source": [
    "f = open('CorpusBataclan_en.1M.raw.txt')"
   ]
  },
  {
   "cell_type": "markdown",
   "metadata": {},
   "source": [
    "### Merge raws with corresponding tweet"
   ]
  },
  {
   "cell_type": "code",
   "execution_count": 4,
   "metadata": {
    "collapsed": true
   },
   "outputs": [],
   "source": [
    "raw_list = list(f)\n",
    "rtweet_list = []\n",
    "for raw in raw_list:\n",
    "    if raw[:2] == 'RT':\n",
    "        rtweet_list.append(raw)\n",
    "    else:\n",
    "        rtweet_list[-1] = rtweet_list[-1] + raw"
   ]
  },
  {
   "cell_type": "code",
   "execution_count": 5,
   "metadata": {},
   "outputs": [
    {
     "name": "stdout",
     "output_type": "stream",
     "text": [
      "Number of raws: 1000000\n",
      "Number of effective retweets: 598663\n"
     ]
    }
   ],
   "source": [
    "print 'Number of raws:', len(raw_list)\n",
    "print 'Number of effective retweets:', len(rtweet_list)"
   ]
  },
  {
   "cell_type": "code",
   "execution_count": 6,
   "metadata": {},
   "outputs": [
    {
     "data": {
      "text/plain": [
       "[\"RT @heartfeIts: It's disappointing how people nowadays think terrorism is linked to a religion..\\n\"]"
      ]
     },
     "execution_count": 6,
     "metadata": {},
     "output_type": "execute_result"
    }
   ],
   "source": [
    "rtweet_list[:1]"
   ]
  },
  {
   "cell_type": "markdown",
   "metadata": {},
   "source": [
    "### Clean tweets"
   ]
  },
  {
   "cell_type": "code",
   "execution_count": 7,
   "metadata": {},
   "outputs": [
    {
     "name": "stdout",
     "output_type": "stream",
     "text": [
      "Time to clean tweets:  19.7470469475\n"
     ]
    }
   ],
   "source": [
    "start = time.time()\n",
    "tweets_to_clean = list(rtweet_list)\n",
    "rtweet_list = []\n",
    "for tweet in tweets_to_clean:\n",
    "    \n",
    "    # Remove URL\n",
    "    clean_tweet = re.sub(r\"http\\S+\", \"\", tweet)\n",
    "    \n",
    "    # Remove 'RT'\n",
    "    clean_tweet = re.sub(r\"RT \", \"\", clean_tweet)\n",
    "    \n",
    "    # Remove tags\n",
    "    clean_tweet = re.sub(r\"@\\S+ \", \"\", clean_tweet)\n",
    "    \n",
    "    # Remove \\n\n",
    "    clean_tweet = re.sub(r\"\\n\", \" \", clean_tweet)\n",
    "    \n",
    "    # Remove hex characters\n",
    "    clean_tweet = re.sub(r'[^\\x00-\\x7f]',r'', clean_tweet) \n",
    "    \n",
    "    # Deal with #\n",
    "    clean_tweet = re.sub(r'#\\S+',putSpace, clean_tweet)\n",
    "\n",
    "    # Remove # and *\n",
    "    clean_tweet = re.sub(r'#','', clean_tweet)\n",
    "    clean_tweet = re.sub(r'\\*','', clean_tweet)\n",
    "    \n",
    "    # Convert uppercase to lowercase\n",
    "    clean_tweet = clean_tweet.lower() # need to remove uppercase to compute edit distance to the words in dictionary\n",
    "    \n",
    "    # Add to the list\n",
    "    rtweet_list.append(clean_tweet)\n",
    "    \n",
    "stop = time.time()\n",
    "print 'Time to clean tweets: ', stop-start"
   ]
  },
  {
   "cell_type": "code",
   "execution_count": 8,
   "metadata": {},
   "outputs": [
    {
     "name": "stdout",
     "output_type": "stream",
     "text": [
      "Number of effective retweets: 598663\n"
     ]
    }
   ],
   "source": [
    "print 'Number of effective retweets:', len(rtweet_list)"
   ]
  },
  {
   "cell_type": "code",
   "execution_count": 9,
   "metadata": {},
   "outputs": [
    {
     "name": "stdout",
     "output_type": "stream",
     "text": [
      "0. it's disappointing how people nowadays think terrorism is linked to a religion.. \n",
      "1. israel killing muslims everyday and no one bats an eye. terrorist attack and muslims got the blame? how shallow can you be?   that bitch stops a show because someone spilled water on stage but puts on a show when terrorists attacki \n",
      "2. french president francois hollande condemns the \"terrorist attacks of unprecedented proportions.\" pray for paris  \n",
      "3. ny lights in blue, white &amp; red as we stand in solidarity with the people of france:   \n",
      "4. my name is malik riaz. i am a muslim. i condemn the paris attack over 1.5 billion muslims do.   please remember this. good on you, paris!  facebook is asking people in paris to check in if they're safe  \n",
      "5. prayers to the victims and survivors of the paris tragedy. we must not let the hate of a few come between us as humans on \n",
      "6. omni hotel in dallas is displaying french flag in solidarity with france.  \n",
      "7. kkk murders ppl white people: ok but not all white people isis murders ppl white people: all muslims are terrorists. ba what the fuck is wrong with you, can you please learn how  to respect!!!  this hurts to look at, the ignorance and disrespect people still have disgusts me   \n",
      "8. my heart is with those in paris.  new york stands with paris in 'solemn solidarity'  \n",
      "9. paris txi drivers turned off their meters, took people home for free - reports   \n",
      "10. the world is showing support for you france. praying for all of you. stay safe everyone. pray for paris   \n",
      "11. at least 60 people killed in paris terror attacks according to affiliate   celebrities take to social media in wake of paris attacks   \n",
      "12. terrorists aren't true muslims and muslims aren't terrorists. my religion is a peaceful religion, some extremists do n thoughts and prayers to the family and friends of those in paris tonight.  pray for paris  this world is fucked. all of our love, light &amp; condolences to the beautiful city of paris... no words.  \n",
      "13. no religion is to be blamed for hatred and violence. to muslims who are constantly blamed for these things, my heart go \n",
      "14. our hearts go out to all those in paris tonight. free people around the world stand with you. prayfor paris \n",
      "15. 1. i stand with paris 2. muslims aren't terrorist 3. terrorism has no religion 4. muslim ( islam ) is a religion 5. isis \n",
      "16. this is paris right now! so powerful  \n",
      "17. terrorism has no religion. terrorism does not represent islam, muslims are not terrorists. pass it on share   \n",
      "18. this was paris after 9/11. in tough times we must stand together.     \n",
      "19. to people blaming refugees for attacks in paris tonight. do you not realise these are the people the refugees are trying to run \n",
      "20. heart goes out to paris, \n",
      "21. terrorism has no religion... i'm so confused right now, what happened in paris? \n",
      "22. paris attack is once again a reminder for the world community to unite and fight against terror. terrorism on any soil is  \n",
      "23. my prayers and thoughts are with the people of paris. \n",
      "24. in honor of the victims in paris   \n",
      "25. folks in paris needing somewhere safe to stay: use porte ouverte to find kind parisians opening their homes to h \n",
      "26. the world has come together to show their support for paris.  us band eagles of death metal was headliner at paris concert hall under siege - usa today  \n",
      "27. the world just lost peace its a scary place and it's hard to take i really hope everybody is ok pray for france thoughts and prayers going out to the victims in paris.paris attacks strongly condemn any acts of terrorism \n",
      "28. hope everyone in france is safe my prayers go out to everyone there and the victims families  \n",
      "29. you guys have to remember that terrorism isn't done because of the religion they are apart of or race they are, they're j \n",
      "30. the biggest victims of terrorist attacks by islamist extremists are fellow muslims. see numbers here from statista.  \n",
      "31. the kkk was screaming \"kill all nggers\" 2 days ago, but did u all blame all whites? no. so don't blame this on all muslims. \n",
      "32. very reassuring ... not .... from a gov who forget to    \n",
      "33. paris attacks | over 150 dead, 200 injured; 8 assailants killed. curfew imposed  more:   \n",
      "34. i feel horrible that people who practice islam have to apologize for the paris attack - muslim people aren't responsibl \n",
      "35. stunning images of global support forparis   \n",
      "36. news from paris is anguishing &amp; dreadful. prayers with families of the deceased. we are united with people of france in t \n",
      "37. 1. muslims aren't terrorist  2. isis did it 3. terrorism has no religion  4. stop blaming muslims   5. we stand with par \n",
      "38. city of paris turns off the lights at the eiffel tower, in memory of the victims  thoughts and prayers go out to families in paris  [pic]   \n",
      "39. as a nation that has suffered similar outrage, we understand that the attacks in paris must be met with the strongest action. \n",
      "40. wow. wow. my thoughts and prayers heavily going out to paris. i have no words for the events that took place... \n",
      "41. the world is showing support for you france. praying for all of you. stay safe everyone. pray for paris   \n",
      "42. if your 1st reaction to islamic terror attacks (paris or peshawar) is, \"oh no, this will make islam look bad,\" you're p \n",
      "43. thinking of you paris   \n",
      "44. thoughts and prayers for those people involved in the situation that has occurred in paris this evening .. very sad  \n",
      "45. if you're in paris and need somewhere to sleep tonight then check here:  pray for paris \n",
      "46. my name is omar. i am a muslim. i condemn the paris attack over 1.5 billion muslims do.   please remember this. \n",
      "47. top spot po. thanks guys although lets not forget paris pa din a. pray. admin k a l d u b happy bday l o l a  \n",
      "48. 1. i stand with paris 2. muslims aren't terrorist 3. terrorism has no religion 4. muslim ( islam ) is a religion 5. isis \n",
      "49. tonight, the world is with paris  \n",
      "50. somewhere in paris  by me pray for paris  i've been thinking of you since the tragedy struck in paris  hope you're safe and you go on to have a wonderful time xx \n",
      "51. prager: \"the islamic state will place terrorist among refugees coming into europe.  \n",
      "52. these cowardly attacks will make life much worse for the average muslim in europe.why must people kill others in the name of \n",
      "53. cowards. stay strong, paris. thoughts are with you all. \n",
      "54. thoughts and prayers for those people involved in the situation that has occurred in paris this evening .. very sad  \n",
      "55. pathetic these terrorists. the ones that don't kill themselves are destined to rule remote areas of the world with no one \n",
      "56. heart goes out to paris, \n",
      "57. pray for paris  heartfelt condolence goes to the people of paris paris attacks \n",
      "58. this was paris after 9/11. let's give them the support that they gave us.  so when will the france situation happen in the uk, consecutive governments have failed to stem the influx of this shit race! \n",
      "59. paris turned off their lights, and the whole world lit up to support them. that's what humanity is. it's rarely seen,  \n",
      "60. unbelievable support from the united states for france. proud of this unity  prayers paris \n",
      "61. the world is showing support for you france. praying for all of you. stay safe everyone. pray for paris   \n",
      "62. paris right now... truly remarkable not afraid  \n",
      "63. our thoughts and prayers go out to all those impacted by the tragedy in paris. hi akshaye, first being a muslim i strongly condemn paris attacks and my heart and prayers goes with the victim. second the \n",
      "64. eiffel tower goes dark following deadly paris attacks. pray for paris  this is the fault of politicians who 4 \"vote bank\" promote multiculturalism. 2day common-men in paris are paying the price for it. \n",
      "65. images: the world shows solidarity with the people of france following paris attacks -   subscribe to france 24 now:  france 24 live news stream: all the latest news   pray for paris  \n",
      "66. paris, not afraid.  \n",
      "67. one world trade lit in blue, white and red in solidarity with the people of france.  \n",
      "68. \"how do you defeat terrorism? dont be terrorized\" - salman rushdie  people in paris are on the streets: no fear. \n",
      "69. obama in february: bloody acts of islamist terrorism in places like paris are sexy   r \n",
      "70. watch: video footage taken inside paris soccer stadium as bomb explodes during terrorist attack: one of...  \n",
      "71. .reports 7 of 8 militants detonated suicide vests. paris   deeply saddened by the horrifying events. my thoughts are with the people of paris. \n",
      "72. my heart is filled with sadness for our french brothers and sisters. i am praying for paris and for the victims of this \n",
      "73. video: fans sing french national anthem as they evacuate stade de france earlier -    \n",
      "74. stars pray for paris in light of recent terror attacks  \n",
      "75. heart goes out to paris, \n",
      "76. seeing europeans line up to help and embrace muslim refugees infuriated and shattered the worldview of so many islamis \n",
      "77. obama said today isis is \"contained\". i don't think paris would agree with him tonight. islamic terrorism is out of cont \n",
      "78. mass shooting in us: don't politicize this tragedy!!! terror in paris: it's all obama's fault!!! paris attacks \n",
      "79. watch the full statement from on the attacks in paris.  no one is safe around the world. terrorism has different face but no heart, they are just heartless human beings prayers paris \n",
      "80. my prayers are with the families of the victims of the horrific terror attack in paris. we condemn and stand together with pa information about paris - queengrinchywrites: 2 explosions and 3 shootings in paris (update: 10th and 11th...  \n",
      "81. here are paris embassy numbers for those from uk, ireland, usa, australia &amp; canada. spread the word. porte ouverte  my heart breaks for paris. vive la france \n",
      "82. support for paris swells from around the world  \n",
      "83. thoughts are with those in paris... \n",
      "84. no whats interesting to me is how you're running for president, 162 are dead and you're using it as a debate.   \n",
      "85. calgary's mcmahon stadium is also lit up in the colours of france paris attacks   photo by  obama protects the muslim brotherhood \n",
      "86. not only pray for paris but for all the other countries who go through these things everyday &amp; go unnoticed \n",
      "87. remember not to blame muslims, muslims are not terrorists or isis, muslims are being targeted by isis/terrorists too htt terrorism has no religion, pass it on.  \n",
      "88. cowards. stay strong, paris. thoughts are with you all. though and pray sending to all the victim in paris. prayers paris \n",
      "89. our hearts and prayers go out to the people of paris, the victims, and their families. \n",
      "90. god bless all the families in paris !  fuck the terrorist for fuck sake ! they deserve worst then death ! i hate when people see a muslim and say they are a terrorist like just because they are muslims doesn't mean they are a terrorist \n",
      "91. thoughts and prayers for those people involved in the situation that has occurred in paris this evening .. very sad  \n",
      "92. not launching a book titled \"paris attacks a jewish-christian conspiracy\"?  \n",
      "93. if all muslims are terrorists then all white people are affiliated with kkk. blame individuals and their ideologies not an  \n",
      "94. thoughts and prayers for those people involved in the situation that has occurred in paris this evening .. very sad  \n",
      "95. a question i've been asking over &amp; over.  did you actually pray for paris or are you just tweeting it? pray for paris hello, everyone take a moment to pray for those who have lost their lives to day in paris. forget everything and just pray. prayers paris \n",
      "96. france's embrace of islamic culture has come back to haunt them in paris. terrorism has no religion is epitome of ignora \n",
      "97. so powerful made me tear up... this paris right now....amazing   \n",
      "98. good morning paris, we stand with you! magcon prays for paris  +   pray for paris \n",
      "99. please stop comparing my prayer for the world today as an \"all lives matter\" blanket post. it's about the terrorist attacks t alangan halos lahat mn sguro dream place ang paris france syempre  \n"
     ]
    }
   ],
   "source": [
    "for idx,tweet in enumerate(rtweet_list[:100]):\n",
    "    print str(idx)+'.', tweet"
   ]
  },
  {
   "cell_type": "code",
   "execution_count": null,
   "metadata": {
    "collapsed": true
   },
   "outputs": [],
   "source": []
  },
  {
   "cell_type": "markdown",
   "metadata": {},
   "source": [
    "### Correcting tweets"
   ]
  },
  {
   "cell_type": "code",
   "execution_count": 10,
   "metadata": {},
   "outputs": [
    {
     "name": "stdout",
     "output_type": "stream",
     "text": [
      "Reading config file: ./MODEL_DIR/context2vec.mscc.model.params\n",
      "Config:  {'config_path': './MODEL_DIR/', 'model_file': 'context2vec.mscc.model', 'deep': 'yes', 'drop_ratio': '0.0', 'words_file': 'context2vec.mscc.words.targets', 'unit': '300'}\n",
      "Time to import model context2vec: 46.0143020153\n"
     ]
    }
   ],
   "source": [
    "start = time.time()\n",
    "model_param_file = './MODEL_DIR/context2vec.mscc.model.params'\n",
    "model_reader = ModelReader(model_param_file)\n",
    "word2index = model_reader.word2index\n",
    "stop = time.time()\n",
    "print \"Time to import model context2vec:\", stop-start"
   ]
  },
  {
   "cell_type": "code",
   "execution_count": 11,
   "metadata": {
    "collapsed": true
   },
   "outputs": [],
   "source": [
    "# setup tokenizer\n",
    "tokenizer = RegexpTokenizer(r'\\w+')"
   ]
  },
  {
   "cell_type": "code",
   "execution_count": 12,
   "metadata": {
    "collapsed": true
   },
   "outputs": [],
   "source": [
    "uncorrect_words = []\n",
    "for idx,tweet in enumerate(rtweet_list):\n",
    "    tokenize_tweet = tokenizer.tokenize(rtweet_list[1])\n",
    "    for token in tokenize_tweet:\n",
    "        if token not in word2index:\n",
    "            if token not in uncorrect_words:\n",
    "                uncorrect_words.append(token)"
   ]
  },
  {
   "cell_type": "code",
   "execution_count": 13,
   "metadata": {},
   "outputs": [
    {
     "data": {
      "text/plain": [
       "['muslims', 'terrorists', 'attacki']"
      ]
     },
     "execution_count": 13,
     "metadata": {},
     "output_type": "execute_result"
    }
   ],
   "source": [
    "uncorrect_words"
   ]
  },
  {
   "cell_type": "code",
   "execution_count": 26,
   "metadata": {},
   "outputs": [
    {
     "name": "stdout",
     "output_type": "stream",
     "text": [
      "muslims 1.0 muslins\n",
      "terrorists 1.0 terrorist\n",
      "attacki 1.0 attacks\n"
     ]
    }
   ],
   "source": [
    "from src.levenshtein_distance import levenshtein_distance\n",
    "\n",
    "for uncorrect_word in uncorrect_words:\n",
    "    min_dist = np.inf\n",
    "    for word_dict in word2index:\n",
    "        dist = levenshtein_distance(uncorrect_word, word_dict)\n",
    "        if dist<min_dist:\n",
    "            min_dist = dist\n",
    "            correct_word = word_dict\n",
    "    print uncorrect_word, min_dist, correct_word"
   ]
  },
  {
   "cell_type": "code",
   "execution_count": 24,
   "metadata": {
    "collapsed": true
   },
   "outputs": [],
   "source": []
  },
  {
   "cell_type": "code",
   "execution_count": null,
   "metadata": {
    "collapsed": true
   },
   "outputs": [],
   "source": []
  },
  {
   "cell_type": "code",
   "execution_count": null,
   "metadata": {
    "collapsed": true
   },
   "outputs": [],
   "source": []
  }
 ],
 "metadata": {
  "kernelspec": {
   "display_name": "Python [conda env:TD_3]",
   "language": "python",
   "name": "conda-env-TD_3-py"
  },
  "language_info": {
   "codemirror_mode": {
    "name": "ipython",
    "version": 2
   },
   "file_extension": ".py",
   "mimetype": "text/x-python",
   "name": "python",
   "nbconvert_exporter": "python",
   "pygments_lexer": "ipython2",
   "version": "2.7.14"
  }
 },
 "nbformat": 4,
 "nbformat_minor": 2
}
