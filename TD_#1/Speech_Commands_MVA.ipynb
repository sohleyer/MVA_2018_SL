{
 "cells": [
  {
   "cell_type": "markdown",
   "metadata": {},
   "source": [
    "# Speech Commands\n",
    "In this Practical work you will be given voice commands recorded by devices such as assistants. The task is to recognize the voice command from the audio signal. The dataset is stored as waveforms, each one being a 1 second file containing one voice command. The first step will be to extract speech features, either Melfilterbanks or MFCC. Then you will train different type of classifiers to recognize the spoken voice command from the speech features. These classifiers are a Logistic Regression and a Neural Network.\n",
    "\n",
    "### Replace the path in the shell below by the one that contains the dataset"
   ]
  },
  {
   "cell_type": "code",
   "execution_count": 1,
   "metadata": {},
   "outputs": [
    {
     "name": "stdout",
     "output_type": "stream",
     "text": [
      "Attempting to make log directory at /Users/sebastienohleyer/Documents/ENS MVA/MVA_2018_SL/TD_#1/log/04-02-2018_19-14-37\n"
     ]
    }
   ],
   "source": [
    "import numpy as np\n",
    "import spectral\n",
    "import librosa\n",
    "import IPython\n",
    "import os\n",
    "import scipy.io.wavfile as wav\n",
    "import sklearn\n",
    "from sklearn.neural_network import MLPClassifier\n",
    "\n",
    "# Import functions to store training results\n",
    "import csv\n",
    "from datetime import datetime\n",
    "from log import _check_log_directory,_initialise_model_log, _read_model_log\n",
    "log_dir = '/Users/sebastienohleyer/Documents/ENS MVA/MVA_2018_SL/TD_#1/log'\n",
    "log_name = (datetime.now().strftime('%d-%m-%Y_%H-%M-%S'))\n",
    "log_filepath = os.path.join(log_dir,log_name,'model_results.csv')\n",
    "_check_log_directory(os.path.join(log_dir,log_name))\n",
    "_initialise_model_log(log_filepath)"
   ]
  },
  {
   "cell_type": "code",
   "execution_count": 2,
   "metadata": {
    "collapsed": true
   },
   "outputs": [],
   "source": [
    "os.chdir('./speech_commands_v0.01')\n",
    "import time\n",
    "import random\n",
    "import matplotlib.pyplot as plt\n",
    "%matplotlib inline\n",
    "random.seed(777)"
   ]
  },
  {
   "cell_type": "markdown",
   "metadata": {},
   "source": [
    "These functions are just utilities that will help facilitate features extraction. Feel free to modify them if you need to, but it is not required."
   ]
  },
  {
   "cell_type": "code",
   "execution_count": 3,
   "metadata": {
    "collapsed": true
   },
   "outputs": [],
   "source": [
    "def txt2list(filename):\n",
    "    lines_list = []\n",
    "    with open(filename, 'r') as txt:\n",
    "        for line in txt:\n",
    "            lines_list.append(line.rstrip('\\n'))\n",
    "    return lines_list\n",
    "\n",
    "def transform_wavs(wavs_list, feature_func):\n",
    "    features = []\n",
    "    for wav in wavs_list:\n",
    "        features.append(feature_func.transform(wav).flatten())\n",
    "    return features\n",
    "\n",
    "def pad(features):\n",
    "    max_len = 0\n",
    "    padded_features =[]\n",
    "    for feat_file in features:\n",
    "        max_len = max(max_len, feat_file.shape[0])\n",
    "    for feat_file in features:\n",
    "        pad_size = max_len - feat_file.shape[0]\n",
    "        left_pad = pad_size / 2\n",
    "        right_pad = pad_size - left_pad\n",
    "        padded_features.append(np.pad(feat_file, ((left_pad, right_pad),), 'constant', constant_values=(0, 0)))\n",
    "    return padded_features"
   ]
  },
  {
   "cell_type": "markdown",
   "metadata": {},
   "source": [
    "Load the data. In this practical work, you are expected to train your models on the training set and evaluate them on the validation set. When you will get your final best model, report the results on the test set."
   ]
  },
  {
   "cell_type": "code",
   "execution_count": 4,
   "metadata": {
    "collapsed": true
   },
   "outputs": [],
   "source": [
    "## Loading data\n",
    "label_set = ['go', 'yes', 'sheila', 'right', 'three', 'cat', 'one', 'on', 'bed', 'nine']\n",
    "nb_ex_per_class = 300\n",
    "# Valid set\n",
    "valid_list = txt2list('validation_list.txt')\n",
    "# Test set\n",
    "test_list = txt2list('testing_list.txt')"
   ]
  },
  {
   "cell_type": "code",
   "execution_count": 5,
   "metadata": {},
   "outputs": [
    {
     "name": "stdout",
     "output_type": "stream",
     "text": [
      "Train files: 3000\n",
      "Valid files: 1000\n",
      "Test files: 1000\n"
     ]
    }
   ],
   "source": [
    "# Iterate over files\n",
    "train_wavs = []\n",
    "train_labels = []\n",
    "\n",
    "valid_wavs = []\n",
    "valid_labels = []\n",
    "\n",
    "test_wavs = []\n",
    "test_labels = []\n",
    "\n",
    "for root, dirs, files in os.walk(\".\"):\n",
    "    if root == './_background_noise_':\n",
    "        continue\n",
    "    for filename in files:\n",
    "        if not filename.endswith('.wav'):\n",
    "            continue\n",
    "        command = root.lstrip('./')\n",
    "        if command not in label_set:\n",
    "            continue\n",
    "        else:\n",
    "            label = label_set.index(command)\n",
    "        full_name = os.path.join(root.lstrip('./'), filename)\n",
    "        fs, waveform = wav.read(full_name)\n",
    "        if full_name in valid_list and len(valid_labels) < 1000:\n",
    "            valid_wavs.append(waveform)\n",
    "            valid_labels.append(label)\n",
    "        elif full_name in test_list and len(test_labels) < 1000:\n",
    "            test_wavs.append(waveform)\n",
    "            test_labels.append(label)\n",
    "        elif train_labels.count(label) < nb_ex_per_class:\n",
    "            train_wavs.append(waveform)\n",
    "            train_labels.append(label)\n",
    "\n",
    "add_noise=False\n",
    "if add_noise is True:\n",
    "    for root, dirs, files in os.walk(\"./_background_noise_\"):\n",
    "        for filename in files:\n",
    "            if not filename.endswith('.wav'):\n",
    "                continue\n",
    "            full_name = os.path.join(root.lstrip('./'), filename)\n",
    "            fs, waveform = wav.read(full_name)\n",
    "            train_wavs.append(waveform)\n",
    "            train_labels.append(label)\n",
    "\n",
    "# Print data statistics      \n",
    "print \"Train files: \" + str(len(train_wavs))\n",
    "print \"Valid files: \" + str(len(valid_wavs))\n",
    "print \"Test files: \" + str(len(test_wavs))"
   ]
  },
  {
   "cell_type": "code",
   "execution_count": 6,
   "metadata": {
    "collapsed": true
   },
   "outputs": [],
   "source": [
    "train_wavs_array = np.array(train_wavs)\n",
    "valid_wavs_array = np.array(valid_wavs)\n",
    "test_wavs_array = np.array(test_wavs)"
   ]
  },
  {
   "cell_type": "code",
   "execution_count": null,
   "metadata": {
    "collapsed": true
   },
   "outputs": [],
   "source": []
  },
  {
   "cell_type": "code",
   "execution_count": 7,
   "metadata": {
    "collapsed": true
   },
   "outputs": [],
   "source": [
    "from tqdm import tqdm\n",
    "\n",
    "normalize = False\n",
    "\n",
    "def normalize_speech_features(wavs):\n",
    "    normalize_wavs_array = np.zeros((len(wavs), 16000))\n",
    "    for idx, wav in tqdm(enumerate(wavs)):\n",
    "        for i in range(len(wav)):\n",
    "            normalize_wavs_array[idx,i] = wav[i]\n",
    "    feat_mean = np.mean(normalize_wavs_array, axis=0, keepdims=True)\n",
    "    feat_std = np.std(normalize_wavs_array, axis=0, keepdims=True)\n",
    "    return normalize_wavs_array, feat_mean, feat_std\n",
    "\n",
    "if normalize is True:\n",
    "    normalize_train_wavs_array, feat_mean, feat_std = normalize_speech_features(train_wavs)\n",
    "    train_wavs_array = np.divide(np.subtract(normalize_train_wavs_array, feat_mean), feat_std)\n",
    "    \n",
    "    normalize_valid_wavs_array,_,_ = normalize_speech_features(valid_wavs)\n",
    "    valid_wavs_array = np.divide(np.subtract(normalize_valid_wavs_array, feat_mean), feat_std)\n",
    "\n",
    "    normalize_test_wavs_array,_,_ = normalize_speech_features(test_wavs)\n",
    "    test_wavs_array = np.divide(np.subtract(normalize_test_wavs_array, feat_mean), feat_std)"
   ]
  },
  {
   "cell_type": "code",
   "execution_count": null,
   "metadata": {
    "collapsed": true
   },
   "outputs": [],
   "source": []
  },
  {
   "cell_type": "markdown",
   "metadata": {},
   "source": [
    "The following cells create feature functions that have a .transform method that takes a waveform as input. You should not change the framerate parameter (the dataset is sampled at 16kHz).\n",
    "The other parameters are the following:\n",
    "* nfilt = number of mel-filters to average spectrograms\n",
    "* ncep = number of cepstral coefficients to use for MFCCs\n",
    "* do_dct = True to compute MFCC (otherwise mel-filterbanks are the output)\n",
    "* lowerf = lowest frequency spanned by the filters (and that will be taken into account by the features)\n",
    "* higherf = highest frequency spanned by the filters\n",
    "* alpha = parameter use for the pre-emphasis\n",
    "* frate = number of frames per second (1/frate is the stride of the windows in seconds)\n",
    "* wlen = length of windows in seconds\n",
    "* nfft = number of frequency bins used to compute the spectrogram\n",
    "* compression = the final compression performed on the mel-filterbanks (before DCT if you put do_dct=True)\n",
    "* do_deltas = compute the first derivatives of MFCC\n",
    "* do_deltasdeltas = compute the second derivatives of MFCC"
   ]
  },
  {
   "cell_type": "code",
   "execution_count": 8,
   "metadata": {
    "collapsed": true
   },
   "outputs": [],
   "source": [
    "framerate = 16000"
   ]
  },
  {
   "cell_type": "markdown",
   "metadata": {},
   "source": [
    "# Mel-filterbanks function"
   ]
  },
  {
   "cell_type": "code",
   "execution_count": 9,
   "metadata": {
    "collapsed": true
   },
   "outputs": [],
   "source": [
    "melfbanks = spectral.Spectral(nfilt=26,\n",
    "                    ncep=0,\n",
    "                    do_dct=False,\n",
    "                    lowerf=0,\n",
    "                    upperf=8000,\n",
    "                    alpha=0.97,\n",
    "                    fs=framerate,\n",
    "                    frate=80,\n",
    "                    wlen=0.025,\n",
    "                    nfft=512,\n",
    "                    compression='log',\n",
    "                    do_deltas=False,\n",
    "                    do_deltasdeltas=False)"
   ]
  },
  {
   "cell_type": "code",
   "execution_count": null,
   "metadata": {
    "collapsed": true
   },
   "outputs": [],
   "source": []
  },
  {
   "cell_type": "markdown",
   "metadata": {},
   "source": [
    "# MFCC function"
   ]
  },
  {
   "cell_type": "code",
   "execution_count": 10,
   "metadata": {
    "collapsed": true
   },
   "outputs": [],
   "source": [
    "mfcc = spectral.Spectral(nfilt=26,\n",
    "                    ncep=13,\n",
    "                    do_dct=True,\n",
    "                    lowerf=0,\n",
    "                    upperf=8000,\n",
    "                    alpha=0.97,\n",
    "                    fs=framerate,\n",
    "                    frate=80,\n",
    "                    wlen=0.025,\n",
    "                    nfft=512,\n",
    "                    compression='log',\n",
    "                    do_deltas=True,\n",
    "                    do_deltasdeltas=True) "
   ]
  },
  {
   "cell_type": "markdown",
   "metadata": {},
   "source": [
    "# The following cell generates the features for train, valid and test from the waveforms"
   ]
  },
  {
   "cell_type": "code",
   "execution_count": 11,
   "metadata": {},
   "outputs": [
    {
     "name": "stdout",
     "output_type": "stream",
     "text": [
      "Time to output features: 45.5948271751\n"
     ]
    }
   ],
   "source": [
    "# Choose the feature function\n",
    "feature_function = mfcc\n",
    "feature_function_name = 'mfcc'\n",
    "\n",
    "start = time.time()\n",
    "train_feats = np.asarray(pad(transform_wavs(train_wavs, feature_function)))\n",
    "valid_feats = np.asarray(pad(transform_wavs(valid_wavs, feature_function)))\n",
    "test_feats = np.asarray(pad(transform_wavs(test_wavs, feature_function)))\n",
    "end = time.time()\n",
    "feature_function_training_time = end-start\n",
    "print \"Time to output features: \" + str(feature_function_training_time)"
   ]
  },
  {
   "cell_type": "code",
   "execution_count": 12,
   "metadata": {
    "collapsed": true
   },
   "outputs": [],
   "source": [
    "# Next cell trains a logistic regression on the speech features"
   ]
  },
  {
   "cell_type": "code",
   "execution_count": 13,
   "metadata": {},
   "outputs": [
    {
     "name": "stdout",
     "output_type": "stream",
     "text": [
      "[LibLinear]Training time: 125.484946012\n"
     ]
    }
   ],
   "source": [
    "#Logistic regression\n",
    "\n",
    "logreg = sklearn.linear_model.LogisticRegression(verbose=1, tol=1e-4, random_state=777, C=1.5)\n",
    "\n",
    "start = time.time()\n",
    "logreg.fit(train_feats, train_labels)\n",
    "end = time.time()\n",
    "log_reg_training_time = end-start\n",
    "print \"Training time: \" + str(log_reg_training_time)"
   ]
  },
  {
   "cell_type": "code",
   "execution_count": null,
   "metadata": {
    "collapsed": true
   },
   "outputs": [],
   "source": []
  },
  {
   "cell_type": "markdown",
   "metadata": {},
   "source": [
    "# You can now evaluate it on the validation set"
   ]
  },
  {
   "cell_type": "code",
   "execution_count": 14,
   "metadata": {},
   "outputs": [
    {
     "name": "stdout",
     "output_type": "stream",
     "text": [
      "Accuracy on valid set 45.2%\n"
     ]
    }
   ],
   "source": [
    "accuracy = 100*logreg.score(valid_feats, valid_labels)\n",
    "print \"Accuracy on valid set \" + str(accuracy) + \"%\"\n",
    "\n",
    "# write model results\n",
    "with open(log_filepath, 'a') as fp:\n",
    "    a = csv.writer(fp, delimiter=',')\n",
    "    data = [[datetime.now().strftime('%d-%m-%Y_%H-%M-%S'), 'logistic_reg', accuracy,\n",
    "             feature_function_name, normalize, feature_function.config, feature_function_training_time, \n",
    "             logreg.get_params(), log_reg_training_time]]\n",
    "    a.writerows(data)"
   ]
  },
  {
   "cell_type": "code",
   "execution_count": 15,
   "metadata": {},
   "outputs": [
    {
     "name": "stdout",
     "output_type": "stream",
     "text": [
      "Iteration 1, loss = 3.96782215\n",
      "Iteration 2, loss = 1.92127734\n",
      "Iteration 3, loss = 1.46959591\n",
      "Iteration 4, loss = 1.26409574\n",
      "Iteration 5, loss = 1.10757781\n",
      "Iteration 6, loss = 0.98585579\n",
      "Iteration 7, loss = 0.87524553\n",
      "Iteration 8, loss = 0.79025072\n",
      "Iteration 9, loss = 0.73409343\n",
      "Iteration 10, loss = 0.69020332\n",
      "Iteration 11, loss = 0.60158086\n",
      "Iteration 12, loss = 0.56173960\n",
      "Iteration 13, loss = 0.53831629\n",
      "Iteration 14, loss = 0.48612038\n",
      "Iteration 15, loss = 0.44876829\n",
      "Iteration 16, loss = 0.41179742\n",
      "Iteration 17, loss = 0.36705770\n",
      "Iteration 18, loss = 0.33673655\n",
      "Iteration 19, loss = 0.30135552\n",
      "Iteration 20, loss = 0.27962213\n",
      "Iteration 21, loss = 0.25089197\n",
      "Iteration 22, loss = 0.22732887\n",
      "Iteration 23, loss = 0.20896266\n",
      "Iteration 24, loss = 0.19524442\n",
      "Iteration 25, loss = 0.18805744\n",
      "Iteration 26, loss = 0.18004144\n",
      "Iteration 27, loss = 0.15298200\n",
      "Iteration 28, loss = 0.14029771\n",
      "Iteration 29, loss = 0.12740921\n",
      "Iteration 30, loss = 0.12669611\n",
      "Iteration 31, loss = 0.11549359\n",
      "Iteration 32, loss = 0.10463474\n",
      "Iteration 33, loss = 0.09968561\n",
      "Iteration 34, loss = 0.09005232\n",
      "Iteration 35, loss = 0.08668083\n",
      "Iteration 36, loss = 0.07846925\n",
      "Iteration 37, loss = 0.07320545\n",
      "Iteration 38, loss = 0.07293824\n",
      "Iteration 39, loss = 0.06274079\n",
      "Iteration 40, loss = 0.06181509\n",
      "Iteration 41, loss = 0.05625638\n",
      "Iteration 42, loss = 0.05184948\n",
      "Iteration 43, loss = 0.04736492\n",
      "Iteration 44, loss = 0.04664669\n",
      "Iteration 45, loss = 0.04216902\n",
      "Iteration 46, loss = 0.03810098\n",
      "Iteration 47, loss = 0.03709408\n",
      "Iteration 48, loss = 0.03489217\n",
      "Iteration 49, loss = 0.03318935\n",
      "Iteration 50, loss = 0.03281924\n",
      "Iteration 51, loss = 0.02900204\n",
      "Iteration 52, loss = 0.02813729\n",
      "Iteration 53, loss = 0.02591496\n",
      "Iteration 54, loss = 0.02383953\n",
      "Iteration 55, loss = 0.02311493\n",
      "Iteration 56, loss = 0.02175440\n",
      "Iteration 57, loss = 0.02120660\n",
      "Iteration 58, loss = 0.01937027\n",
      "Iteration 59, loss = 0.01933407\n",
      "Iteration 60, loss = 0.01881419\n",
      "Iteration 61, loss = 0.01782460\n",
      "Iteration 62, loss = 0.01761141\n",
      "Iteration 63, loss = 0.01612286\n",
      "Iteration 64, loss = 0.01503249\n",
      "Iteration 65, loss = 0.01473323\n",
      "Iteration 66, loss = 0.01413540\n",
      "Iteration 67, loss = 0.01335309\n",
      "Iteration 68, loss = 0.01299232\n",
      "Iteration 69, loss = 0.01247732\n",
      "Iteration 70, loss = 0.01172904\n",
      "Iteration 71, loss = 0.01138994\n",
      "Iteration 72, loss = 0.01092313\n",
      "Iteration 73, loss = 0.01081571\n",
      "Iteration 74, loss = 0.01027901\n",
      "Iteration 75, loss = 0.00993450\n",
      "Iteration 76, loss = 0.00969413\n",
      "Iteration 77, loss = 0.00947099\n",
      "Iteration 78, loss = 0.00910350\n",
      "Iteration 79, loss = 0.00872518\n",
      "Iteration 80, loss = 0.00875843\n",
      "Iteration 81, loss = 0.00859470\n",
      "Iteration 82, loss = 0.00838388\n",
      "Iteration 83, loss = 0.00804112\n",
      "Iteration 84, loss = 0.00784374\n",
      "Iteration 85, loss = 0.00756096\n",
      "Iteration 86, loss = 0.00729369\n",
      "Iteration 87, loss = 0.00711189\n",
      "Iteration 88, loss = 0.00695754\n",
      "Iteration 89, loss = 0.00687575\n",
      "Iteration 90, loss = 0.00644888\n",
      "Iteration 91, loss = 0.00629853\n",
      "Iteration 92, loss = 0.00612273\n",
      "Iteration 93, loss = 0.00596273\n",
      "Iteration 94, loss = 0.00605754\n",
      "Iteration 95, loss = 0.00579439\n",
      "Iteration 96, loss = 0.00552947\n",
      "Iteration 97, loss = 0.00543858\n",
      "Iteration 98, loss = 0.00539180\n",
      "Iteration 99, loss = 0.00519461\n",
      "Iteration 100, loss = 0.00513548\n",
      "Iteration 101, loss = 0.00500098\n",
      "Iteration 102, loss = 0.00493244\n",
      "Iteration 103, loss = 0.00473084\n",
      "Iteration 104, loss = 0.00463445\n",
      "Iteration 105, loss = 0.00452906\n",
      "Iteration 106, loss = 0.00456149\n",
      "Iteration 107, loss = 0.00440109\n",
      "Iteration 108, loss = 0.00431371\n",
      "Iteration 109, loss = 0.00424094\n",
      "Iteration 110, loss = 0.00416069\n",
      "Training loss did not improve more than tol=0.000100 for two consecutive epochs. Stopping.\n",
      "Training time: 214.930154085\n"
     ]
    }
   ],
   "source": [
    "neural_net = MLPClassifier(hidden_layer_sizes=(500,), validation_fraction = 0.2, early_stopping = False, activation='relu',\n",
    "                                   verbose = True, random_state = 777, learning_rate='adaptive',\n",
    "                                   learning_rate_init=0.001, solver='adam')\n",
    "\n",
    "start = time.time()\n",
    "neural_net.fit(train_feats, train_labels)\n",
    "end = time.time()\n",
    "neural_net_training_time = end-start\n",
    "print \"Training time: \" + str(neural_net_training_time)"
   ]
  },
  {
   "cell_type": "markdown",
   "metadata": {},
   "source": [
    "# Evaluate it on the valid set"
   ]
  },
  {
   "cell_type": "code",
   "execution_count": 16,
   "metadata": {},
   "outputs": [
    {
     "name": "stdout",
     "output_type": "stream",
     "text": [
      "Accuracy on valid set 76.2%\n"
     ]
    }
   ],
   "source": [
    "accuracy = 100*neural_net.score(valid_feats, valid_labels)\n",
    "print \"Accuracy on valid set \" + str(accuracy) + \"%\"\n",
    "\n",
    "# write model results\n",
    "with open(log_filepath, 'a') as fp:\n",
    "    a = csv.writer(fp, delimiter=',')\n",
    "    data = [[datetime.now().strftime('%d-%m-%Y_%H-%M-%S'), 'neural_net', accuracy,\n",
    "             feature_function_name, normalize, feature_function.config, feature_function_training_time, \n",
    "             neural_net.get_params(), neural_net_training_time]]\n",
    "    a.writerows(data)"
   ]
  },
  {
   "cell_type": "markdown",
   "metadata": {
    "collapsed": true
   },
   "source": [
    "# Listen to a random waveform from the training set"
   ]
  },
  {
   "cell_type": "code",
   "execution_count": 17,
   "metadata": {},
   "outputs": [
    {
     "data": {
      "text/html": [
       "\n",
       "                <audio controls=\"controls\" >\n",
       "                    <source src=\"data:audio/wav;base64,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\" type=\"audio/wav\" />\n",
       "                    Your browser does not support the audio element.\n",
       "                </audio>\n",
       "              "
      ],
      "text/plain": [
       "<IPython.lib.display.Audio object>"
      ]
     },
     "execution_count": 17,
     "metadata": {},
     "output_type": "execute_result"
    }
   ],
   "source": [
    "random_idx = random.randint(0, len(valid_wavs))\n",
    "random_wav = valid_wavs[random_idx]\n",
    "IPython.display.Audio(random_wav, rate=16000)"
   ]
  },
  {
   "cell_type": "markdown",
   "metadata": {},
   "source": [
    "# Visualize mel-filterbanks and MFCC"
   ]
  },
  {
   "cell_type": "code",
   "execution_count": 18,
   "metadata": {},
   "outputs": [
    {
     "data": {
      "image/png": "[encoded data removed]",
      "text/plain": [
       "<matplotlib.figure.Figure at 0x10b2dd610>"
      ]
     },
     "metadata": {},
     "output_type": "display_data"
    }
   ],
   "source": [
    "plt.imshow(melfbanks.transform(random_wav).transpose())\n",
    "plt.gca().invert_yaxis()"
   ]
  },
  {
   "cell_type": "code",
   "execution_count": 19,
   "metadata": {},
   "outputs": [
    {
     "data": {
      "image/png": "[encoded data removed]",
      "text/plain": [
       "<matplotlib.figure.Figure at 0x11bfdc890>"
      ]
     },
     "metadata": {},
     "output_type": "display_data"
    }
   ],
   "source": [
    "plt.imshow(mfcc.transform(random_wav).transpose())\n",
    "plt.gca().invert_yaxis()"
   ]
  },
  {
   "cell_type": "markdown",
   "metadata": {},
   "source": [
    "# See what your classifier has predicted"
   ]
  },
  {
   "cell_type": "code",
   "execution_count": 20,
   "metadata": {},
   "outputs": [
    {
     "name": "stdout",
     "output_type": "stream",
     "text": [
      "cat\n"
     ]
    }
   ],
   "source": [
    "print label_set[neural_net.predict(valid_feats[random_idx][np.newaxis])[0]]"
   ]
  },
  {
   "cell_type": "markdown",
   "metadata": {},
   "source": [
    "# What you are expected to do in this TP\n",
    "This notebook contains the different blocks that allow you to train speech commands recognizers. The results provided with the features and classifiers above are far from optimal.\n",
    "\n",
    "You are expected to explore various ways to improve their performance. Here are the main things to try:\n",
    "* The parameters of the speech features such as the min/max frequency or window size are poorly chosen, look inside the resources mentioned in the class to find the best parameters for mel-filterbanks and MFCC.\n",
    "* The logistic regression can be regularized in different ways (by controlling the C parameter) and you can try to find the best one\n",
    "* The neural net proposed is a shallow neural net, far from the best you can train. You should try bigger, deeper architectures, different types of regularization, activation functions, learning rate and so on\n",
    "* A standard way of improving generalization is to do mean-variance normalization on your data set. This is done by computing the mean and variance of each feature dimension on the entire training set, and then use it to normalize train, valid and test set\n",
    "* The dataset provides noises samples, either artificial (pink, white noise) or real (dishes, bike) in the folder _background_noise. You can try augmenting your dataset by adding noise to the waveforms before computing the features\n",
    "* The model is only trained on 300 examples per class, if your hardware allows it, try training on more examples\n",
    "* Feel free to also experiment with different classifiers\n",
    "\n",
    "You should find the best model by comparing validation accuracies. After you find your best model, finally test it on the test set and print the result. Comment on the results (best model, best features, classes that are the most difficult to recognize). The grade will not depend on the performance of the final system, but on how you experimented, tried different ideas, and comment on them.\n",
    "\n",
    "Write your comments in Markdown cells, and send the ipython notebook as your assignment. Good luck!\n",
    "\n",
    "[Documentation for logistic regression](http://scikit-learn.org/stable/modules/generated/sklearn.linear_model.LogisticRegression.html)\n",
    "\n",
    "[Documentation for neural network](http://scikit-learn.org/stable/modules/generated/sklearn.neural_network.MLPClassifier.html)"
   ]
  },
  {
   "cell_type": "markdown",
   "metadata": {
    "collapsed": true
   },
   "source": [
    "# Results and comments\n",
    "\n",
    "We compared the accuracy obtained with Mel-fitlerbanks and MFCC using different classifiers and we present our results for both features.\n",
    "\n",
    "## Mel-filterbanks\n",
    "\n",
    "#### Parameters\n",
    "We perform a manual grid search to find the best parameters. Note that the framerate remains fixed at 16kHz and ncep, do_dct, do_deltas and dodeltadelta were not changed as they are exclusive parameters of the MFCC.\n",
    "* nfilt: 26. We slightly increase the number of filter, as it gives better results.\n",
    "* lowerf: 0. We decide to keep all the lower frequency, to have as much information as possible to compute features.\n",
    "* upperf: 8000. As the sample rate is fixed at 16kHz, we set the upperf at framerate/2.\n",
    "* alpha: 0.97. The preemphasis filter coefficient was increase.\n",
    "* frate: 100. This parameter allow to handle the frame overlay during the acquisition. Typically, the overlay last approximately 100ms. A short computation with this frate gives 6ms. Is has to be chosen in adequation with the length of the window.\n",
    "* wlen: 0.025. Window length is typically of 25ms. It is highly related to the typical duration of a phoneme (a few dozens ms).\n",
    "* nfft: 512. We keep the standard value for nfft.\n",
    "* compression: log. We keep the standard compression.\n",
    "\n",
    "This set up return an accuracy of **41.0%** with the logitic regression with tol=0.001 and C=1.5.\n",
    "\n",
    "Using the neural network, it was found better to slightly reduce de frate and fix it to 80. Using a pretty simple network: 500 hidden layer, Relu activation, Adam solver and tol=0.0001, we manage to outperform the logistic regression and obtain an accuracy of **57.1%**.\n",
    "\n",
    "#### Influence of the feature normalization\n",
    "\n",
    "As proposed in the TP expectations, we tried to perform a mean and variance feature normalization. The function `normalize_speech_features` provided above perform this normalization. Note that some features are not computed for some particular files. Hence we choose to set them at zero to compute the mean and the variance.\n",
    "\n",
    "Unsuprisingly, the normalization does not have any impact on the accuracy obtained with logistic regression. Moreover, it increases the computation time to generate the features (from 45s to 60s) and the training time (from 80s to 90s). We observe the same phenomenon with the neural network. This is du to the nature of these classifiers which are not sensitive to features normalization.\n",
    "\n",
    "#### Influence of noise addition\n",
    "\n",
    "To increase performances, we tried a classic trick called data augmentation, by adding noisy samples to the dataset. However, it decreases the accuracy for both classifier and slow down the training."
   ]
  },
  {
   "cell_type": "markdown",
   "metadata": {},
   "source": [
    "## MFCC\n",
    "\n",
    "#### Parameters\n",
    "\n",
    "We proceed the same way for MFCC, but we add parameters relevant for this new feature. Note that for this feature too, the framerate is fixed at 16kHz as it depends on the signal sampling.\n",
    "* nfilt: 26. Same remark as mel-filterbanks.\n",
    "* ncep: 13. We choose the number of cepstrum to return in adequation with nfilt.\n",
    "* do_dct: True. For MFCC, we need to perform DCT. It is one of the main difference between MFCC and mel-filterbanks.\n",
    "* lowerf: 0. Same remark as mel-filterbanks.\n",
    "* higherf: 8000. Same remark as mel-filterbanks.\n",
    "* alpha: 0.97. Same remark as mel-filterbanks.\n",
    "* frate: 80. Same remark as mel-filterbanks.\n",
    "* wlen: 0.25. Same remark as mel-filterbanks.\n",
    "* nfft: 512. Same remark as mel-filterbanks.\n",
    "* compression: log. Same remark as mel-filterbanks.\n",
    "* do_deltas: True. For this feature, we choose to augment our knowledge of the signal by computing the first derivative.\n",
    "* do_deltasdeltas: True. Same reason as do_deltas for second derivatives.\n",
    "\n",
    "These parameters choices gives an accuracy of **45.5%** with the logitic regression with tol=0.001 and C=1.5.\n",
    "\n",
    "With the neural network, we achieve the best results of all features/classifiers combinations. Using the same network as above: 500 hidden layer, Relu activation, Adam solver and tol=0.0001, we achieve an accuracy of **76.2%**. This is the actual printed result on the notebook.\n",
    "\n",
    "#### Influence of the feature normalization\n",
    "\n",
    "Same remark as mel-filterbank.\n",
    "\n",
    "#### Influence of noise addition\n",
    "\n",
    "Same remark as mel-filterbank."
   ]
  },
  {
   "cell_type": "markdown",
   "metadata": {},
   "source": [
    "## Class predictions\n",
    "After a few trials, we achieve our best results with MFCC and neural network as presented above. If needed, the details of each run is available on the GitHub fork: https://github.com/sohleyer/MVA_2018_SL/tree/master/TD_%231. Feel free to observe the results printed in a csv file, with all parameters and computation for features computation and model training.\n",
    "\n",
    "We decide to pursue only with best parameters and models found (ie MFCC and neural network presented above).\n",
    "\n",
    "#### Intra-class accuracy\n",
    "\n",
    "To give us an idea of the difficulties encountered by our classifier, we compute intra-class accuracies."
   ]
  },
  {
   "cell_type": "code",
   "execution_count": 23,
   "metadata": {},
   "outputs": [
    {
     "name": "stdout",
     "output_type": "stream",
     "text": [
      "Label go: 78.0769230769\n",
      "Label cat: 80.9523809524\n",
      "Label on: 77.2413793103\n",
      "Label bed: 75.1269035533\n",
      "Label nine: 70.8695652174\n"
     ]
    }
   ],
   "source": [
    "for label in np.unique(np.array(valid_labels)):\n",
    "    valid_class = valid_feats[np.array(valid_labels)==label]\n",
    "    class_res = neural_net.score(valid_class, label*np.ones(len(valid_class)))\n",
    "    print(\"Label \"+ str(label_set[label])+\": \"+str(100*class_res))"
   ]
  },
  {
   "cell_type": "markdown",
   "metadata": {},
   "source": [
    "As we can see in the cell above, the classifier achieves best predictions for cat, go, on, bed but worst on nine. Remark that nine is the only word in the validation set with two syllables, maybe it can explain the difficulty to predict it well.\n",
    "\n",
    "Let us now observe which was the wrong predictions for this label."
   ]
  },
  {
   "cell_type": "code",
   "execution_count": 24,
   "metadata": {},
   "outputs": [
    {
     "data": {
      "text/plain": [
       "<function matplotlib.pyplot.show>"
      ]
     },
     "execution_count": 24,
     "metadata": {},
     "output_type": "execute_result"
    },
    {
     "data": {
      "image/png": "[encoded data removed]",
      "text/plain": [
       "<matplotlib.figure.Figure at 0x1179261d0>"
      ]
     },
     "metadata": {},
     "output_type": "display_data"
    }
   ],
   "source": [
    "valid_nine = valid_feats[np.array(valid_labels)==9]\n",
    "nine_res = neural_net.predict(valid_nine)\n",
    "plt.hist(nine_res[nine_res!=9],bins=np.arange(0,10,1), ec='black'); \n",
    "plt.xticks( np.arange(0,10,1), [label_set[i] for i in np.arange(0,9,1)] ); plt.show"
   ]
  },
  {
   "cell_type": "markdown",
   "metadata": {},
   "source": [
    "Something really interesting is that the label 'nine' is mostly confused with 'one' which are two word with close phonetic. It highlights the classifier troubles to distinguish two close words. Maybe these features are not discriminative enough for the classifier, the two points in the multi-dimensional space are too close. An idea could be to add more discriminative features to help the classifier or to change the classifier."
   ]
  },
  {
   "cell_type": "markdown",
   "metadata": {},
   "source": [
    "## Other classifiers\n",
    "\n",
    "For a better understanding of the problem, we try two other classifiers from the sklearn library: the Random Forest and the Gradient Boosting. With the first one, we obtain some results quickly (less than 20s) but we did not manage to have an accuracy above 70% (maximum was **66.2%**). Concerning the Gradient Boosting, because of the material computational limitations we were not able to obtain results in a reasonable time (the training last more than 10min). That is why we decided to not present our results in details.\n",
    "\n",
    "Similarly, we could not increase the number of training examples for hardware purpose and lack of time. "
   ]
  },
  {
   "cell_type": "code",
   "execution_count": null,
   "metadata": {
    "collapsed": true
   },
   "outputs": [],
   "source": []
  }
 ],
 "metadata": {
  "kernelspec": {
   "display_name": "TD_1",
   "language": "python",
   "name": "td_1"
  },
  "language_info": {
   "codemirror_mode": {
    "name": "ipython",
    "version": 2
   },
   "file_extension": ".py",
   "mimetype": "text/x-python",
   "name": "python",
   "nbconvert_exporter": "python",
   "pygments_lexer": "ipython2",
   "version": "2.7.14"
  }
 },
 "nbformat": 4,
 "nbformat_minor": 1
}
